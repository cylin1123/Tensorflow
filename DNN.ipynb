{
 "cells": [
  {
   "cell_type": "markdown",
   "id": "genetic-spirit",
   "metadata": {},
   "source": [
    "## 實現深度神經網路DNN"
   ]
  },
  {
   "cell_type": "markdown",
   "id": "upper-batch",
   "metadata": {},
   "source": [
    "### 深度神經網路"
   ]
  },
  {
   "cell_type": "markdown",
   "id": "black-inspection",
   "metadata": {},
   "source": [
    "* 是機器學習中一種基於對資料進行表徵學習的演算法\n",
    "* 用非監督式或半監督式的特徵學習和分層特徵提取高效演算法來替代手工取得特徵"
   ]
  },
  {
   "cell_type": "markdown",
   "id": "patent-batman",
   "metadata": {},
   "source": [
    "#### 資料集\n",
    "\n",
    "Fashion_mnist \n"
   ]
  },
  {
   "cell_type": "code",
   "execution_count": 1,
   "id": "referenced-dublin",
   "metadata": {},
   "outputs": [],
   "source": [
    "import numpy as np\n",
    "import matplotlib as mpl\n",
    "import matplotlib.pyplot as plt\n",
    "import tensorflow as tf\n",
    "from tensorflow import keras\n",
    "import sklearn,pandas as pd\n",
    "import os"
   ]
  },
  {
   "cell_type": "code",
   "execution_count": 2,
   "id": "athletic-aruba",
   "metadata": {},
   "outputs": [],
   "source": [
    "%matplotlib inline"
   ]
  },
  {
   "cell_type": "code",
   "execution_count": 3,
   "id": "junior-joseph",
   "metadata": {},
   "outputs": [],
   "source": [
    "fashion_minst = tf.keras.datasets.fashion_mnist"
   ]
  },
  {
   "cell_type": "code",
   "execution_count": 4,
   "id": "stupid-north",
   "metadata": {},
   "outputs": [],
   "source": [
    "(train_imgs,train_labels),(test_imgs,test_labels) = fashion_minst.load_data()"
   ]
  },
  {
   "cell_type": "code",
   "execution_count": 5,
   "id": "satisfied-coordinate",
   "metadata": {},
   "outputs": [
    {
     "data": {
      "text/plain": [
       "(60000, 28, 28)"
      ]
     },
     "execution_count": 5,
     "metadata": {},
     "output_type": "execute_result"
    }
   ],
   "source": [
    "train_imgs.shape"
   ]
  },
  {
   "cell_type": "code",
   "execution_count": 6,
   "id": "handmade-collins",
   "metadata": {},
   "outputs": [
    {
     "data": {
      "text/plain": [
       "(60000,)"
      ]
     },
     "execution_count": 6,
     "metadata": {},
     "output_type": "execute_result"
    }
   ],
   "source": [
    "train_labels.shape"
   ]
  },
  {
   "cell_type": "code",
   "execution_count": 7,
   "id": "informed-assumption",
   "metadata": {},
   "outputs": [
    {
     "data": {
      "text/plain": [
       "(10000, 28, 28)"
      ]
     },
     "execution_count": 7,
     "metadata": {},
     "output_type": "execute_result"
    }
   ],
   "source": [
    "test_imgs.shape"
   ]
  },
  {
   "cell_type": "code",
   "execution_count": 8,
   "id": "vocal-color",
   "metadata": {},
   "outputs": [
    {
     "data": {
      "text/plain": [
       "(10000,)"
      ]
     },
     "execution_count": 8,
     "metadata": {},
     "output_type": "execute_result"
    }
   ],
   "source": [
    "test_labels.shape"
   ]
  },
  {
   "cell_type": "code",
   "execution_count": 9,
   "id": "practical-leeds",
   "metadata": {},
   "outputs": [],
   "source": [
    "#將訓練集資料再細分成訓練集(55000)跟驗證集(5000)\n",
    "x_valid, x_train = train_imgs[:5000], train_imgs[5000:]\n",
    "y_valid, y_train = train_labels[:5000], train_labels[5000:]"
   ]
  },
  {
   "cell_type": "code",
   "execution_count": 10,
   "id": "structured-throat",
   "metadata": {},
   "outputs": [
    {
     "name": "stdout",
     "output_type": "stream",
     "text": [
      "uint8\n",
      "[[  0   0   0   0   0   0   0   0   0   0   0   0   0   0   0   0   0   0\n",
      "    0   1   0   0   0   0   0   0   0   0]\n",
      " [  0   0   0   0   0   0   0   0   0   0   0  44 127 182 185 161 120  55\n",
      "    0   0   0   0   0   0   0   0   0   0]\n",
      " [  0   0   0   0   0   0   0   0   0  42 198 251 255 251 249 247 255 252\n",
      "  214 100   0   0   0   0   0   0   0   0]\n",
      " [  0   0   0   0   0   0   2   0   0 233 252 237 239 234 237 235 237 237\n",
      "  254 227   0   0   0   0   1   0   0   0]\n",
      " [  0   0   0   0   0   2   0   0  16 210 225 215 175 217 216 193 196 226\n",
      "  221 209  50   0   0   2   0   0   0   0]\n",
      " [  0   0   0   0   2   0   0 199 229 232 230 245 204 219 253 245 207 194\n",
      "  223 231 236 235   0   0   3   0   0   0]\n",
      " [  0   0   0   0   1   0 137 235 204 209 201 209 234 190 234 218 215 238\n",
      "  239 204 189 224 154   0   0   0   0   0]\n",
      " [  0   0   0   0   0   0 194 201 200 209 202 193 205 194 183 218 231 197\n",
      "  172 181 193 205 199   0   0   0   0   0]\n",
      " [  0   0   0   0   0   3 212 203 188 189 196 198 198 201 196 217 179 167\n",
      "  183 217 197 202 219  30   0   0   0   0]\n",
      " [  0   0   0   0   0  34 225 200 194 190 188 192 196 192 170 202 190 201\n",
      "  195 200 201 209 227  50   0   0   0   0]\n",
      " [  0   0   0   0   0  68 225 210 211 198 192 196 204 196 181 212 197 195\n",
      "  192 206 220 210 229  93   0   0   0   0]\n",
      " [  0   0   0   0   0 111 223 227 253 209 196 204 211 206 183 216 206 210\n",
      "  203 215 244 224 227 150   0   0   0   0]\n",
      " [  0   0   0   0   0 139 225 224 255 202 206 212 209 211 190 213 202 207\n",
      "  206 222 255 230 220 190   0   0   0   0]\n",
      " [  0   0   0   0   0 180 226 224 255 199 204 207 214 214 190 216 206 203\n",
      "  205 219 243 224 214 234   0   0   0   0]\n",
      " [  0   0   0   0   0 225 223 228 254 209 206 208 213 210 191 215 207 204\n",
      "  208 211 249 226 214 255  38   0   0   0]\n",
      " [  0   0   0   0   0 250 232 240 239 211 203 209 205 211 197 215 208 208\n",
      "  214 213 239 231 219 255  81   0   0   0]\n",
      " [  0   0   0   0   0 248 236 247 240 203 200 208 206 214 193 213 212 208\n",
      "  212 211 243 242 225 254  66   0   0   0]\n",
      " [  0   0   0   0   0 247 230 252 226 199 211 202 211 213 182 213 212 206\n",
      "  202 219 207 247 222 237 104   0   0   0]\n",
      " [  0   0   0   0  10 244 219 250 205 199 209 202 209 211 189 214 206 210\n",
      "  200 212 154 240 208 219 140   0   0   0]\n",
      " [  0   0   0   0  21 255 222 238 184 210 192 206 209 210 189 213 211 209\n",
      "  192 228 155 226 238 241 166   0   0   0]\n",
      " [  0   0   0   0  37 245 226 241 150 197 189 204 209 210 183 213 213 201\n",
      "  184 215 146 216 236 225 154   0   0   0]\n",
      " [  0   0   0   0  58 239 227 255 158 193 195 204 209 213 180 207 217 199\n",
      "  194 211 158 219 236 216 151   0   0   0]\n",
      " [  0   0   0   0  68 233 226 243 139 200 193 205 210 208 180 205 212 203\n",
      "  196 216 157 179 255 216 155   0   0   0]\n",
      " [  0   0   0   0  81 225 224 211 138 219 185 201 213 207 197 226 212 200\n",
      "  190 215 183  90 255 211 147   0   0   0]\n",
      " [  0   0   0   0  91 210 230 158 114 205 187 208 209 206 193 210 211 204\n",
      "  195 204 181  23 255 213 158   0   0   0]\n",
      " [  0   0   0   0  87 205 232 109 164 255 214 224 222 210 197 214 225 222\n",
      "  211 220 217   0 234 216 169   0   0   0]\n",
      " [  0   0   0   0  92 213 232 146   5 134 151 162 170 183 182 164 166 178\n",
      "  162 156  98   0 240 225 210   0   0   0]\n",
      " [  0   0   0   0  43 164 206 141   0   0   0   0   0   0   0   0   0   0\n",
      "    0   0   0   0 127 125  76   0   0   0]]\n",
      "4\n",
      "(55000, 28, 28) (55000,)\n",
      "(5000, 28, 28) (5000,)\n",
      "(10000, 28, 28) (10000,)\n"
     ]
    }
   ],
   "source": [
    "print(x_train[0].dtype)\n",
    "print(x_train[0])\n",
    "print(y_train[0])#為數字編碼,非數字編碼＝＞損失函數設為 sparse_categorical_crossentropy\n",
    "print(x_train.shape, y_train.shape)\n",
    "print(x_valid.shape, y_valid.shape)\n",
    "print(test_imgs.shape, test_labels.shape)"
   ]
  },
  {
   "cell_type": "code",
   "execution_count": 11,
   "id": "understood-species",
   "metadata": {},
   "outputs": [
    {
     "name": "stdout",
     "output_type": "stream",
     "text": [
      "255 0\n"
     ]
    }
   ],
   "source": [
    "print(np.max(x_train), np.min(x_train))"
   ]
  },
  {
   "cell_type": "markdown",
   "id": "endangered-throw",
   "metadata": {},
   "source": [
    "##### 進行歸一化Normalization處理\n",
    "\n",
    "原始資料的數據按比例縮放於 [0, 1] 區間中，且不改變其原本分佈\n",
    "\n",
    "* 提升模型的收斂速度\n",
    "* 提高模型的精準度\n",
    "\n",
    "公式: \n",
    "\n",
    "* Z分數標準化(Z-Score Standardization) :  X = (X - X_mean) / std\n",
    "* 最小值最大值正規化(Min-Max Normalization) :  X = (X - X_min) / (X_max - X_min) "
   ]
  },
  {
   "cell_type": "code",
   "execution_count": 12,
   "id": "innovative-perfume",
   "metadata": {},
   "outputs": [],
   "source": [
    "from sklearn.preprocessing import StandardScaler\n",
    "\n",
    "scaler = StandardScaler()\n",
    "\n",
    "# 因fit_transform要求二維資料,故先將先轉成二維再轉成三維\n",
    "x_train_scaled = scaler.fit_transform(x_train.astype(np.float32).reshape(-1,1)).reshape(-1,28,28)\n",
    "x_valid_scaled = scaler.transform(x_valid.astype(np.float32).reshape(-1,1)).reshape(-1,28,28)\n",
    "test_scaled = scaler.transform(test_imgs.astype(np.float32).reshape(-1,1)).reshape(-1,28,28)\n"
   ]
  },
  {
   "cell_type": "code",
   "execution_count": 13,
   "id": "final-bloom",
   "metadata": {},
   "outputs": [
    {
     "name": "stdout",
     "output_type": "stream",
     "text": [
      "2.0231433 -0.8105136\n"
     ]
    }
   ],
   "source": [
    "print(np.max(x_train_scaled), np.min(x_train_scaled))"
   ]
  },
  {
   "cell_type": "code",
   "execution_count": 14,
   "id": "demanding-publicity",
   "metadata": {},
   "outputs": [
    {
     "data": {
      "image/png": "[encoded data removed]",
      "text/plain": [
       "<Figure size 432x288 with 1 Axes>"
      ]
     },
     "metadata": {
      "needs_background": "light"
     },
     "output_type": "display_data"
    },
    {
     "data": {
      "image/png": "[encoded data removed]",
      "text/plain": [
       "<Figure size 720x648 with 15 Axes>"
      ]
     },
     "metadata": {
      "needs_background": "light"
     },
     "output_type": "display_data"
    }
   ],
   "source": [
    "def show_single_image(img_arr):\n",
    "    plt.imshow(img_arr, cmap=\"binary\") #cmap:将标准化标量映射为颜色, binary代表白底黑字\n",
    "    plt.show()\n",
    "show_single_image(x_train[0])\n",
    "\n",
    "\n",
    "def show_imgs(n_rows, n_cols, x_data, y_data, class_names):\n",
    "    assert len(x_data) == len(y_data)\n",
    "    assert n_rows * n_cols < len(x_data)\n",
    "    plt.figure(figsize = (n_cols * 2, n_rows * 3))\n",
    "    for row in range(n_rows):\n",
    "        for col in range(n_cols):\n",
    "            index = n_cols * row + col\n",
    "            plt.subplot(n_rows, n_cols, index + 1)\n",
    "            plt.imshow(x_data[index], cmap=\"binary\")\n",
    "            plt.axis('off')\n",
    "            plt.title(class_names[y_data[index]])\n",
    "    plt.show()\n",
    "    \n",
    "class_names = ['T-shirt', 'Trouser', 'Pullover', 'Dress', 'Coat', \n",
    "               'Sandal', 'Shirt', 'Sneaker', 'Bag', 'Ankle boot']\n",
    "show_imgs(3, 5, x_train, y_train, class_names)"
   ]
  },
  {
   "cell_type": "markdown",
   "id": "foreign-negative",
   "metadata": {},
   "source": [
    "##### 構建模型"
   ]
  },
  {
   "cell_type": "code",
   "execution_count": 15,
   "id": "medical-dining",
   "metadata": {},
   "outputs": [],
   "source": [
    "model = tf.keras.models.Sequential()\n",
    "model.add(tf.keras.layers.Flatten(input_shape=[28,28])) #先把資料打平成一維\n"
   ]
  },
  {
   "cell_type": "code",
   "execution_count": 16,
   "id": "educational-pottery",
   "metadata": {},
   "outputs": [],
   "source": [
    "#建立15層\n",
    "for i in range(20):\n",
    "    model.add(tf.keras.layers.Dense(100,activation='selu')) #selu函數自帶數據歸一化功能，在某程度上也能缓解梯度消失問題\n",
    " \n",
    "\n",
    "    "
   ]
  },
  {
   "cell_type": "code",
   "execution_count": 17,
   "id": "conscious-baseline",
   "metadata": {},
   "outputs": [],
   "source": [
    "\n",
    "#AlphaDropout優點: \n",
    "#1.平均值和標準差不變：一般的dropout在dropout之後可能激活值發布就發生變化，但是alphadropout並不會\n",
    "#2.歸一化性質不變：因平均值和標準差不變 可以结合bn、selu来使用，因不會導致分布發生變化\n",
    "\n",
    "model.add(tf.keras.layers.AlphaDropout(rate=0.5))\n",
    "#model.add(keras.layers.Dropout(rate=0.3))\n",
    "          \n",
    "model.add(tf.keras.layers.Dense(10,activation=\"softmax\"))\n"
   ]
  },
  {
   "cell_type": "code",
   "execution_count": 18,
   "id": "after-values",
   "metadata": {},
   "outputs": [],
   "source": [
    "##### 編譯模型"
   ]
  },
  {
   "cell_type": "code",
   "execution_count": 19,
   "id": "accessible-liberal",
   "metadata": {},
   "outputs": [],
   "source": [
    "model.compile(loss= \"sparse_categorical_crossentropy\",optimizer= \"adam\", metrics = [\"accuracy\"])"
   ]
  },
  {
   "cell_type": "code",
   "execution_count": 20,
   "id": "progressive-burning",
   "metadata": {},
   "outputs": [
    {
     "name": "stdout",
     "output_type": "stream",
     "text": [
      "Model: \"sequential\"\n",
      "_________________________________________________________________\n",
      "Layer (type)                 Output Shape              Param #   \n",
      "=================================================================\n",
      "flatten (Flatten)            (None, 784)               0         \n",
      "_________________________________________________________________\n",
      "dense (Dense)                (None, 100)               78500     \n",
      "_________________________________________________________________\n",
      "dense_1 (Dense)              (None, 100)               10100     \n",
      "_________________________________________________________________\n",
      "dense_2 (Dense)              (None, 100)               10100     \n",
      "_________________________________________________________________\n",
      "dense_3 (Dense)              (None, 100)               10100     \n",
      "_________________________________________________________________\n",
      "dense_4 (Dense)              (None, 100)               10100     \n",
      "_________________________________________________________________\n",
      "dense_5 (Dense)              (None, 100)               10100     \n",
      "_________________________________________________________________\n",
      "dense_6 (Dense)              (None, 100)               10100     \n",
      "_________________________________________________________________\n",
      "dense_7 (Dense)              (None, 100)               10100     \n",
      "_________________________________________________________________\n",
      "dense_8 (Dense)              (None, 100)               10100     \n",
      "_________________________________________________________________\n",
      "dense_9 (Dense)              (None, 100)               10100     \n",
      "_________________________________________________________________\n",
      "dense_10 (Dense)             (None, 100)               10100     \n",
      "_________________________________________________________________\n",
      "dense_11 (Dense)             (None, 100)               10100     \n",
      "_________________________________________________________________\n",
      "dense_12 (Dense)             (None, 100)               10100     \n",
      "_________________________________________________________________\n",
      "dense_13 (Dense)             (None, 100)               10100     \n",
      "_________________________________________________________________\n",
      "dense_14 (Dense)             (None, 100)               10100     \n",
      "_________________________________________________________________\n",
      "dense_15 (Dense)             (None, 100)               10100     \n",
      "_________________________________________________________________\n",
      "dense_16 (Dense)             (None, 100)               10100     \n",
      "_________________________________________________________________\n",
      "dense_17 (Dense)             (None, 100)               10100     \n",
      "_________________________________________________________________\n",
      "dense_18 (Dense)             (None, 100)               10100     \n",
      "_________________________________________________________________\n",
      "dense_19 (Dense)             (None, 100)               10100     \n",
      "_________________________________________________________________\n",
      "alpha_dropout (AlphaDropout) (None, 100)               0         \n",
      "_________________________________________________________________\n",
      "dense_20 (Dense)             (None, 10)                1010      \n",
      "=================================================================\n",
      "Total params: 271,410\n",
      "Trainable params: 271,410\n",
      "Non-trainable params: 0\n",
      "_________________________________________________________________\n"
     ]
    }
   ],
   "source": [
    "model.summary()"
   ]
  },
  {
   "cell_type": "code",
   "execution_count": 21,
   "id": "governing-garden",
   "metadata": {},
   "outputs": [],
   "source": [
    "#Tensorflow中的Callback用於模型訓練過程中的監聽動作，常用的callback類型：\n",
    "#Tensorboard 可視覺化Tensorboard\n",
    "#earlystopping 當loss函数不能再優化時停止訓練模型,藉此截取到最優惠的模型參數\n",
    "#ModelCheckpoint 每次epoch之後就保存模型\n",
    "\n",
    "\n",
    "#新增callbacks資料夾並建立fashion_mnist_model.h5檔案\n",
    "\n",
    "logdir = os.path.join(\"Dnn-callbacks\")\n",
    "\n",
    "if not os.path.exists(logdir):\n",
    "    os.mkdir(logdir)\n",
    "\n",
    "output_model_file = os.path.join(logdir,\"fashion_mnist_model\")\n",
    "    \n",
    "callbacks = [\n",
    "    tf.keras.callbacks.TensorBoard(logdir),\n",
    "    tf.keras.callbacks.ModelCheckpoint(output_model_file,save_best_only=True),\n",
    "    tf.keras.callbacks.EarlyStopping(patience=5, min_delta=1e-3)\n",
    "]"
   ]
  },
  {
   "cell_type": "code",
   "execution_count": 22,
   "id": "round-biology",
   "metadata": {},
   "outputs": [
    {
     "name": "stdout",
     "output_type": "stream",
     "text": [
      "Train on 55000 samples, validate on 5000 samples\n",
      "Epoch 1/10\n",
      "54496/55000 [============================>.] - ETA: 0s - loss: 0.8323 - accuracy: 0.7177WARNING:tensorflow:From C:\\Users\\NickLin\\AppData\\Roaming\\Python\\Python37\\site-packages\\tensorflow_core\\python\\ops\\resource_variable_ops.py:1786: calling BaseResourceVariable.__init__ (from tensorflow.python.ops.resource_variable_ops) with constraint is deprecated and will be removed in a future version.\n",
      "Instructions for updating:\n",
      "If using Keras pass *_constraint arguments to layers.\n",
      "INFO:tensorflow:Assets written to: Dnn-callbacks\\fashion_mnist_model\\assets\n",
      "55000/55000 [==============================] - 8s 149us/sample - loss: 0.8337 - accuracy: 0.7172 - val_loss: 0.9220 - val_accuracy: 0.7480\n",
      "Epoch 2/10\n",
      "54592/55000 [============================>.] - ETA: 0s - loss: 0.7096 - accuracy: 0.7631INFO:tensorflow:Assets written to: Dnn-callbacks\\fashion_mnist_model\\assets\n",
      "55000/55000 [==============================] - 7s 131us/sample - loss: 0.7092 - accuracy: 0.7631 - val_loss: 0.6846 - val_accuracy: 0.8236\n",
      "Epoch 3/10\n",
      "55000/55000 [==============================] - 6s 109us/sample - loss: 0.6114 - accuracy: 0.7945 - val_loss: 0.7513 - val_accuracy: 0.8162\n",
      "Epoch 4/10\n",
      "55000/55000 [==============================] - 9s 166us/sample - loss: 0.6062 - accuracy: 0.7829 - val_loss: 0.8207 - val_accuracy: 0.7872\n",
      "Epoch 5/10\n",
      "55000/55000 [==============================] - 9s 156us/sample - loss: 0.6181 - accuracy: 0.7862 - val_loss: 0.9898 - val_accuracy: 0.8184\n",
      "Epoch 6/10\n",
      "55000/55000 [==============================] - 11s 198us/sample - loss: 0.6878 - accuracy: 0.7500 - val_loss: 0.7782 - val_accuracy: 0.8184\n",
      "Epoch 7/10\n",
      "54720/55000 [============================>.] - ETA: 0s - loss: 0.5426 - accuracy: 0.8211INFO:tensorflow:Assets written to: Dnn-callbacks\\fashion_mnist_model\\assets\n",
      "55000/55000 [==============================] - 10s 186us/sample - loss: 0.5423 - accuracy: 0.8211 - val_loss: 0.6577 - val_accuracy: 0.8442\n",
      "Epoch 8/10\n",
      "55000/55000 [==============================] - 9s 160us/sample - loss: 0.6513 - accuracy: 0.7708 - val_loss: 0.8048 - val_accuracy: 0.8280\n",
      "Epoch 9/10\n",
      "55000/55000 [==============================] - 8s 145us/sample - loss: 0.5419 - accuracy: 0.8215 - val_loss: 0.7605 - val_accuracy: 0.8270\n",
      "Epoch 10/10\n",
      "55000/55000 [==============================] - 8s 154us/sample - loss: 0.5366 - accuracy: 0.8254 - val_loss: 0.7481 - val_accuracy: 0.7924\n"
     ]
    }
   ],
   "source": [
    "history=model.fit(x_train_scaled, y_train, epochs=10, #epochs用于遍历训练集次数\n",
    "                  validation_data=(x_valid_scaled,y_valid),#加入验证集，每隔一段时间就对验证集进行验证\n",
    "                  callbacks=callbacks)"
   ]
  },
  {
   "cell_type": "markdown",
   "id": "necessary-service",
   "metadata": {},
   "source": [
    "##### 繪製學習曲線"
   ]
  },
  {
   "cell_type": "code",
   "execution_count": 23,
   "id": "becoming-screening",
   "metadata": {},
   "outputs": [
    {
     "data": {
      "image/png": "[encoded data removed]",
      "text/plain": [
       "<Figure size 576x360 with 1 Axes>"
      ]
     },
     "metadata": {
      "needs_background": "light"
     },
     "output_type": "display_data"
    }
   ],
   "source": [
    "def plot_learning_curves(history):\n",
    "    pd.DataFrame(history.history).plot(figsize=(8,5))\n",
    "    plt.grid(True) \n",
    "    plt.gca().set_ylim(0,1)\n",
    "    plt.show()\n",
    "                                       \n",
    "plot_learning_curves(history)"
   ]
  },
  {
   "cell_type": "code",
   "execution_count": 24,
   "id": "synthetic-worry",
   "metadata": {},
   "outputs": [],
   "source": [
    "from tensorflow.keras.models import load_model\n",
    "model = load_model('Dnn-callbacks/fashion_mnist_model')"
   ]
  },
  {
   "cell_type": "code",
   "execution_count": 25,
   "id": "sixth-richmond",
   "metadata": {},
   "outputs": [],
   "source": [
    "a = model.predict(test_imgs)"
   ]
  },
  {
   "cell_type": "code",
   "execution_count": 26,
   "id": "exclusive-london",
   "metadata": {},
   "outputs": [
    {
     "data": {
      "text/plain": [
       "array([0., 0., 0., 0., 0., 0., 0., 0., 0., 1.], dtype=float32)"
      ]
     },
     "execution_count": 26,
     "metadata": {},
     "output_type": "execute_result"
    }
   ],
   "source": [
    "a[0]"
   ]
  },
  {
   "cell_type": "code",
   "execution_count": 27,
   "id": "grand-heading",
   "metadata": {},
   "outputs": [
    {
     "data": {
      "text/plain": [
       "'Ankle boot'"
      ]
     },
     "execution_count": 27,
     "metadata": {},
     "output_type": "execute_result"
    }
   ],
   "source": [
    "class_names[np.argmax(a[0])]"
   ]
  },
  {
   "cell_type": "code",
   "execution_count": null,
   "id": "equivalent-angola",
   "metadata": {},
   "outputs": [],
   "source": []
  }
 ],
 "metadata": {
  "kernelspec": {
   "display_name": "Python 3",
   "language": "python",
   "name": "python3"
  },
  "language_info": {
   "codemirror_mode": {
    "name": "ipython",
    "version": 3
   },
   "file_extension": ".py",
   "mimetype": "text/x-python",
   "name": "python",
   "nbconvert_exporter": "python",
   "pygments_lexer": "ipython3",
   "version": "3.7.10"
  }
 },
 "nbformat": 4,
 "nbformat_minor": 5
}
